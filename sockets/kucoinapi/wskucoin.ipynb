{
 "cells": [
  {
   "cell_type": "markdown",
   "id": "5f163efa",
   "metadata": {},
   "source": [
    "# Kucoin Websocket\n",
    "\n",
    "<ol>\n",
    "    <li> Apply connect token, obtain a response\n",
    "        <ul>\n",
    "            <li> POST /Api/V1/bullet-public\n",
    "                <li> POST /Api/V1/bullet-private\n",
    "        </ul>\n",
    "    <li> Create connection (with websocket)\n",
    "        <ul>\n",
    "            <li> If connection succesfully stablished you receive a welcome message\n",
    "        </ul>\n",
    "    <li> Set Ping\n",
    "        <ul>\n",
    "            <li> To keep alive the link, the clinet side needs to send ping messages every pingInterval\n",
    "            <li> After ping is sent, the system would return a pong message to the client side.\n",
    "        </ul>\n",
    "    <li> Subscribe\n",
    "        <ul>\n",
    "            <li> Send subscription message to the server\n",
    "        </ul>\n",
    "</ol>"
   ]
  },
  {
   "cell_type": "markdown",
   "id": "fa48d82f",
   "metadata": {},
   "source": [
    "### Subscribe to topic\n",
    "<code> #websocket response\n",
    "{\n",
    "    'code': '200000', \n",
    "    'data': {'token': '2neAiuYvAU61ZDXANAGAsiL4-iAExhsBXZxftpOeh_55i3Ysy2q2LEsEWU64mdzUOPusi34M_wGoSf7iNyEWJ7mWo7DW2HzV3eE5sq9oXsa_GYS3W2hx-9iYB9J6i9GjsxUuhPw3BlrzazF6ghq4L8Ib_mfJpXxYRWYg6LH3wio=.abmr_NDQl7YHlhDnCcksbA==', \n",
    "    'instanceServers': [\n",
    "    {\n",
    "    'endpoint': 'wss://ws-api.kucoin.com/endpoint', \n",
    "    'encrypt': True, \n",
    "    'protocol': 'websocket', \n",
    "    'pingInterval': 18000, \n",
    "    'pingTimeout': 10000}\n",
    "                      ]\n",
    "    }\n",
    "}</code>\n",
    "\n",
    "### Public channels\n",
    "\n",
    "Topic: /market/ticker:{symbol},{symbol}...\n",
    "\n",
    "<code>{\n",
    "    \"id\": 1545910660739,\n",
    "    \"type\": \"subscribe\",\n",
    "    \"topic\": \"/market/ticker:BTC-USDT\",\n",
    "    \"response\": true\n",
    "}</code>"
   ]
  },
  {
   "cell_type": "markdown",
   "id": "fa8eb624",
   "metadata": {},
   "source": [
    "<code> {\n",
    "    \"id\": 1545910660739,                          //The id should be an unique value\n",
    "    \"type\": \"subscribe\",\n",
    "    \"topic\": \"/market/ticker:BTC-USDT,ETH-USDT\",  //Topic needs to be subscribed. Some topics support to divisional subscribe the informations of multiple trading pairs through \",\".\n",
    "    \"privateChannel\": false,                      //Adopted the private channel or not. Set as false by default.\n",
    "    \"response\": true                              //Whether the server needs to return the receipt information of this subscription or not. Set as false by default.\n",
    "}</code>"
   ]
  },
  {
   "cell_type": "code",
   "execution_count": null,
   "id": "b06ce997",
   "metadata": {},
   "outputs": [],
   "source": [
    "#imports\n",
    "\n",
    "#import base64\n",
    "#import hashlib\n",
    "#import hmac\n",
    "import json\n",
    "import threading\n",
    "import time\n",
    "import traceback\n",
    "\n",
    "import websocket\n",
    "import requests"
   ]
  },
  {
   "cell_type": "code",
   "execution_count": null,
   "id": "0974a4b7",
   "metadata": {},
   "outputs": [],
   "source": [
    "def get_ws_token():\n",
    "    url = 'https://api.kucoin.com/api/v1/bullet-public'\n",
    "    #now = int(time.time() * 1000)\n",
    "    #str_to_sign = str(now) + 'POST' + '/api/v1/bullet-public'\n",
    "    #signature = base64.b64encode(\n",
    "        #hmac.new(SECRET_KEY.encode('utf-8'), str_to_sign.encode('utf-8'), hashlib.sha256).digest())\n",
    "    #headers = {\n",
    "    #    \"KC-API-SIGN\": signature,\n",
    "    #    \"KC-API-TIMESTAMP\": str(now),\n",
    "    #    \"KC-API-KEY\": API_KEY,\n",
    "    #    \"KC-API-PASSPHRASE\": PASS_PHRASE\n",
    "    #}\n",
    "    response = requests.request('post', url) #, headers=headers\n",
    "    return response.json()['data']['token']\n",
    "    #print(response.json()['data']['token'])\n",
    "\n",
    "#if __name__ == \"__main__\":\n",
    "#    get_ws_token()"
   ]
  },
  {
   "cell_type": "code",
   "execution_count": null,
   "id": "7c9dcfb8",
   "metadata": {},
   "outputs": [],
   "source": [
    "def on_message(wsapp, message):\n",
    "    print(message)\n",
    "\n",
    "\n",
    "def on_error(wsapp, error):\n",
    "    print(error)\n",
    "    \n",
    "#wsapp = websocket.WebSocketApp(\"wss://stream.meetup.com/2/rsvps\", on_message=on_message)\n",
    "#wsapp.run_forever()"
   ]
  },
  {
   "cell_type": "code",
   "execution_count": null,
   "id": "f93b67ce",
   "metadata": {},
   "outputs": [],
   "source": [
    "def launch():\n",
    "\n",
    "    while True:\n",
    "        print('Websocket running')\n",
    "        time.sleep(.1)\n",
    "\n",
    "        token = get_ws_token()\n",
    "        print(token)\n",
    "\n",
    "        try:\n",
    "            ws = websocket.WebSocketApp(\n",
    "                f\"wss://push1-v2.kucoin.com/endpoint?token={token}&connectId=1&acceptUserMessage=true\",\n",
    "                on_open=on_open,\n",
    "                on_message=on_message,\n",
    "                on_error=on_error,\n",
    "                on_close=on_close)\n",
    "\n",
    "            ws.run_forever()\n",
    "        except:\n",
    "            print('ws Error: websocket failed')\n",
    "            print(traceback.format_exc())\n",
    "\n",
    "            \n",
    "if __name__ == '__main__':\n",
    "    try:\n",
    "        launch()\n",
    "    except KeyboardInterrupt:\n",
    "        exit()"
   ]
  }
 ],
 "metadata": {
  "kernelspec": {
   "display_name": "Python 3 (ipykernel)",
   "language": "python",
   "name": "python3"
  },
  "language_info": {
   "codemirror_mode": {
    "name": "ipython",
    "version": 3
   },
   "file_extension": ".py",
   "mimetype": "text/x-python",
   "name": "python",
   "nbconvert_exporter": "python",
   "pygments_lexer": "ipython3",
   "version": "3.9.1"
  }
 },
 "nbformat": 4,
 "nbformat_minor": 5
}
